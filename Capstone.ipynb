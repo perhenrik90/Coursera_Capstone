{
 "cells": [
  {
   "cell_type": "markdown",
   "metadata": {},
   "source": [
    "# Coursera Capstone Project\n",
    "How to determine where to set up the new capital administration center for the Northern Norway. \n",
    "I do not use foursqure because it is not so relevant for the northern part of norway where I live. "
   ]
  },
  {
   "cell_type": "markdown",
   "metadata": {},
   "source": [
    "## Description of the problem"
   ]
  },
  {
   "cell_type": "markdown",
   "metadata": {},
   "source": [
    "The Northern part of Norway consist of 3 main regions (Nordland, Troms and Finnmark) divided in to 87 smaller communes. Today these regions has their own capital (Bodø, Tromsø and Vardø). With digitization and technology, the need for three regions is less important and much of the administration can be done from a computer. But the northern part is large and there is few people and long distances. If there can be only one or two capital communes in this big region, where should it be placed?"
   ]
  },
  {
   "cell_type": "markdown",
   "metadata": {},
   "source": [
    "## Description of the Data\n",
    "\n",
    "I will gather data about of all of the communes, geographical position, and population size from the Norwegian 'map-services' called 'Kartverket'. I will also get data from Wikipedia and other Norwegian open data sites. The data will show where people are living in the northern part of Norway, and how the density is distributed. I will use the data to compute a total cost metrics and use som algorithems (KMeans etc) to find the best spot for a capital commune in an exiting town, and where an optimal placement wouild be if we could start a new town. If I find data about GDP I will use them also (not shure if I can get them from open data sources. \n",
    "\n",
    "* [Commune list data](https://www.kartverket.no/kunnskap/Fakta-om-Norge/Fylker-og-kommuner/Tabell/)\n",
    "* [Wiki page with coordinates (Bodø example page)](https://no.wikipedia.org/wiki/Bod%C3%B8)\n",
    "* [Geo-location data can be queried here](https://norgeskart.no)\n",
    "* [Norwegian Population Open statistics](https://www.ssb.no/befolkning)\n",
    "\n",
    "Just for having an idee of what the northern part looks like:\n",
    "\n",
    "![](img/norway.png)"
   ]
  },
  {
   "cell_type": "markdown",
   "metadata": {},
   "source": [
    "## Methodology\n",
    "First I scraped [this list](https://www.kartverket.no/kunnskap/Fakta-om-Norge/Fylker-og-kommuner/Tabell/) of Norwegian communities and filtered out the northern part. Then the data was cleaned for Sami words (another language spoken in the northern part) and prepared for geo-location gathering from the Wikipedia pages form Norway. For each community line in the dataset a call to wikipedia was done and the geo location was captured. After that the data was combined with population statistics given by the Norwegian [SSB](https://www.ssb.no/en/) joined on the standard commune ID used in Norway.\n",
    "\n",
    "When the data was combined, cleaned and prepared I used KMeans to cluster the geo location in one and two partitions. First without the population and afterwards with the population. The I computed the distance to the K-centers from all the small towns and found the nearest one. "
   ]
  },
  {
   "cell_type": "markdown",
   "metadata": {},
   "source": [
    "## Results\n",
    "\n",
    "![](img/total.png)\n",
    "\n",
    "As we can se it was Identified two major towns (Bodø and Tromsø; the biggst circles) at the map. It is the capitals of the Nordland and Troms region. The blue one (Bodø), is a bit smaller, but there are multiple bigger towns around it. Finnmark is relativly small compered to the other regions. When the KMeans with one cluster on the longdetude and lattitude we can see that an optimal placement would be someware in the middle:\n",
    "\n",
    "![](img/k1.png)\n",
    "\n",
    "The closest communities to this optimal point is Lavangen, Salangen and Gratangen all located in Troms and all small communities with under 3000 inhabitants. Not an optimal point for placeing a capital. \n",
    "\n",
    "When splitting in two clusters the center of the first will be located near Steigen and Fauske in Nordland witch is pretty near Bodø. Bodø is the second biggest community with 52 000 innhabitants. The other point will be near Porsanger and far from a community with more than 10 000 inhabitants. It is placed north of Tromsø witch has around 72 000 innhabitants. \n",
    "\n",
    "When taking the population into account when training the KMeans models is that the k1 point is pretty similare, but the k2 split gets more centered:\n",
    "\n",
    "![](img/k1pop.png)\n",
    "\n",
    "Now the optimal point for K1 and one of the K2 is almost the same. "
   ]
  },
  {
   "cell_type": "markdown",
   "metadata": {},
   "source": [
    "## Discussion\n",
    "From the results we can se that an optimal point for placing a capital is in the middle of noware. Tromsø is the biggest city but there are multiple bigger communities in the south. These have a long traveling way to Tormsø. We can se this when splitning the data up in two clusters based on coorinates and population. "
   ]
  },
  {
   "cell_type": "markdown",
   "metadata": {},
   "source": [
    "## Conclusion\n",
    "It is dificlut to find an optimal placement of the Northern part of norway. The distances is big, and the population is scarse in the midle. Maybe we still have to maintain tree regional capitals. "
   ]
  }
 ],
 "metadata": {
  "kernelspec": {
   "display_name": "Python 3",
   "language": "python",
   "name": "python3"
  },
  "language_info": {
   "codemirror_mode": {
    "name": "ipython",
    "version": 3
   },
   "file_extension": ".py",
   "mimetype": "text/x-python",
   "name": "python",
   "nbconvert_exporter": "python",
   "pygments_lexer": "ipython3",
   "version": "3.7.3"
  }
 },
 "nbformat": 4,
 "nbformat_minor": 2
}
