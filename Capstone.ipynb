{
 "cells": [
  {
   "cell_type": "markdown",
   "metadata": {},
   "source": [
    "# Coursera Capstone Project\n",
    "How to determine where to set up the new capital administration center for the Northern Norway. "
   ]
  },
  {
   "cell_type": "markdown",
   "metadata": {},
   "source": [
    "## Description of the problem"
   ]
  },
  {
   "cell_type": "markdown",
   "metadata": {},
   "source": [
    "The Northern part of Norway consist of 3 main regions (Nordland, Troms and Finnmark) divided in to 87 smaller communes. Today these regions has their own capital (Bodø, Tromsø and Vardø). With digitization and technology, the need for three regions is less important and much of the administration can be done from a computer. But the northern part is large and there is few people and long distances. If there can be only one or two capital communes in this big region, where should it be placed?"
   ]
  },
  {
   "cell_type": "markdown",
   "metadata": {},
   "source": [
    "## Description of the Data\n",
    "\n",
    "I will gather data about of all of the communes, geographical position, and population size from the Norwegian 'map-services' called 'Kartverket'. I will also get data from Wikipedia and other Norwegian open data sites. The data will show where people are living in the northern part of Norway, and how the density is distributed. I will use the data to compute a total cost metrics and use som algorithems (KMeans etc) to find the best spot for a capital commune in an exiting town, and where an optimal placement wouild be if we could start a new town. If I find data about GDP I will use them also (not shure if I can get them from open data sources. \n",
    "\n",
    "* [Commune list data](https://www.kartverket.no/kunnskap/Fakta-om-Norge/Fylker-og-kommuner/Tabell/)\n",
    "* [Wiki page with coordinates (Bodø example page)](https://no.wikipedia.org/wiki/Bod%C3%B8)\n",
    "* [Geo-location data can be queried here](https://norgeskart.no)"
   ]
  }
 ],
 "metadata": {
  "kernelspec": {
   "display_name": "Python 3",
   "language": "python",
   "name": "python3"
  },
  "language_info": {
   "codemirror_mode": {
    "name": "ipython",
    "version": 3
   },
   "file_extension": ".py",
   "mimetype": "text/x-python",
   "name": "python",
   "nbconvert_exporter": "python",
   "pygments_lexer": "ipython3",
   "version": "3.5.3"
  }
 },
 "nbformat": 4,
 "nbformat_minor": 2
}
